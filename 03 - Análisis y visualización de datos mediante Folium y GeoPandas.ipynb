{
 "cells": [
  {
   "cell_type": "markdown",
   "metadata": {},
   "source": [
    "# Análisis y visualización de datos mediante Folium y GeoPandas"
   ]
  },
  {
   "cell_type": "markdown",
   "metadata": {},
   "source": [
    "[GeoPandas](http://geopandas.org/) es un proyecto de software libre que extiende los tipos de datos de [Pandas](http://pandas.pydata.org/) para incorporar objetos geométricos (puntos, líneas, polígonos, etc). GeoPandas se apoya en otras bibliotecas como [Fiona](https://github.com/Toblerity/Fiona) para el acceso a los datos (ej. en archivos), [Shapely](https://pypi.org/project/Shapely/) para geoprocesamiento y [Matplotlib](https://matplotlib.org/) para graficación.\n",
    "\n",
    "Las dos estructuras principales de GeoPandas son:\n",
    "\n",
    "- [GeoSeries](http://geopandas.org/data_structures.html#geoseries): es un vector en el que cada elemento es una geometría correspondiente a una observación. Por ejemplo, los polígonos de una capa de países.\n",
    "- [GeoDataFrame](http://geopandas.org/data_structures.html#geodataframe): es una estructura tabular (i.e. con filas y columnas) de datos geométricos y no geométricos (ej. textos, números). El conjunto de geometrías se implementa a través de GeoSeries. Un GeoDataFrame puede describirse como un DataFrame de Pandas con una columna adicional para geometrías."
   ]
  },
  {
   "cell_type": "markdown",
   "metadata": {},
   "source": [
    "**Instalación**"
   ]
  },
  {
   "cell_type": "markdown",
   "metadata": {},
   "source": [
    "Para instalar GeoPandas mediante **conda**, debe ejecutarse la siguiente instrucción desde la línea de comandos de Anaconda (Anaconda Prompt):\n",
    "\n",
    "```\n",
    "conda install geopandas\n",
    "```"
   ]
  },
  {
   "cell_type": "markdown",
   "metadata": {},
   "source": [
    "**Importación de bibliotecas**"
   ]
  },
  {
   "cell_type": "code",
   "execution_count": null,
   "metadata": {},
   "outputs": [],
   "source": [
    "import pandas as pd\n",
    "import geopandas as gpd\n",
    "from shapely.geometry import Point\n",
    "\n",
    "%matplotlib inline\n",
    "\n",
    "import folium"
   ]
  },
  {
   "cell_type": "markdown",
   "metadata": {},
   "source": [
    "**Variables globales**"
   ]
  },
  {
   "cell_type": "code",
   "execution_count": null,
   "metadata": {},
   "outputs": [],
   "source": [
    "# Cantidad máxima de registros que se despliegan en un GeoDataFrame\n",
    "pd.options.display.max_rows = 10"
   ]
  },
  {
   "cell_type": "markdown",
   "metadata": {},
   "source": [
    "## Preparación de datos"
   ]
  },
  {
   "cell_type": "markdown",
   "metadata": {},
   "source": [
    "**Carga de datos**"
   ]
  },
  {
   "cell_type": "markdown",
   "metadata": {},
   "source": [
    "Para los siguientes ejemplos, se utilizará la capa de provincias y estados de [Natural Earth](https://www.naturalearthdata.com/), disponible en [https://www.naturalearthdata.com/downloads/10m-cultural-vectors/10m-admin-1-states-provinces/](https://www.naturalearthdata.com/downloads/10m-cultural-vectors/10m-admin-1-states-provinces/) como un _shapefile_ y que fue convertida al formato GeoJSON. El archivo GeoJSON debe colocarse en el directorio de datos (/datos). Una vez hecho esto, se procede a cargar los datos en un GeoDataFrame, a través de la función [read_file()](http://geopandas.org/io.html)."
   ]
  },
  {
   "cell_type": "code",
   "execution_count": null,
   "metadata": {},
   "outputs": [],
   "source": [
    "# Carga del archivo GeoJSON en un GeoDataFrame\n",
    "provincias_gdf = gpd.read_file(\"datos/ne_10m_admin_1_states_provinces.geojson\")"
   ]
  },
  {
   "cell_type": "code",
   "execution_count": null,
   "metadata": {},
   "outputs": [],
   "source": [
    "# Verificación del tipo de datos de provincias_gdf\n",
    "type(provincias_gdf)"
   ]
  },
  {
   "cell_type": "code",
   "execution_count": null,
   "metadata": {},
   "outputs": [],
   "source": [
    "# Visualización de los primeros registros del GeoDataFrame\n",
    "provincias_gdf.head()"
   ]
  },
  {
   "cell_type": "code",
   "execution_count": null,
   "metadata": {},
   "outputs": [],
   "source": [
    "# Despliegue de las geometrías\n",
    "provincias_gdf.geometry"
   ]
  },
  {
   "cell_type": "code",
   "execution_count": null,
   "metadata": {},
   "outputs": [],
   "source": [
    "# provincias_gdf.geometry es una variable del tipo GeoSeries\n",
    "type(provincias_gdf.geometry)"
   ]
  },
  {
   "cell_type": "code",
   "execution_count": null,
   "metadata": {},
   "outputs": [],
   "source": [
    "# Información sobre provincias_gdf\n",
    "provincias_gdf.info()"
   ]
  },
  {
   "cell_type": "markdown",
   "metadata": {},
   "source": [
    "**Filtrado**"
   ]
  },
  {
   "cell_type": "code",
   "execution_count": null,
   "metadata": {},
   "outputs": [],
   "source": [
    "# Por país\n",
    "provincias_cr_gdf = provincias_gdf[provincias_gdf['admin'] == 'Costa Rica']\n",
    "\n",
    "# Selección de un subconjunto de columnas\n",
    "provincias_cr_gdf = provincias_cr_gdf[['admin','gns_name','geometry']]\n",
    "\n",
    "provincias_cr_gdf"
   ]
  },
  {
   "cell_type": "markdown",
   "metadata": {},
   "source": [
    "## Análisis de la información"
   ]
  },
  {
   "cell_type": "markdown",
   "metadata": {},
   "source": [
    "### Mapeo"
   ]
  },
  {
   "cell_type": "markdown",
   "metadata": {},
   "source": [
    "#### Matplotlib"
   ]
  },
  {
   "cell_type": "markdown",
   "metadata": {},
   "source": [
    "La función [plot()](http://geopandas.org/reference.html#geopandas.GeoDataFrame.plot) proporciona una manera sencilla de visualizar los datos en un mapa."
   ]
  },
  {
   "cell_type": "code",
   "execution_count": null,
   "metadata": {},
   "outputs": [],
   "source": [
    "provincias_cr_gdf.plot(figsize=(15, 10))"
   ]
  },
  {
   "cell_type": "markdown",
   "metadata": {},
   "source": [
    "La función [to_file()](http://geopandas.org/reference.html#geopandas.GeoDataFrame.to_file) guarda un GeoDataFrame en un formato geoespacial."
   ]
  },
  {
   "cell_type": "code",
   "execution_count": null,
   "metadata": {},
   "outputs": [],
   "source": [
    "# Se guarda el GeoDataFrame en un archivo\n",
    "provincias_cr_gdf.to_file(\"datos/provincias_cr.geojson\", driver=\"GeoJSON\")"
   ]
  },
  {
   "cell_type": "markdown",
   "metadata": {},
   "source": [
    "#### Folium"
   ]
  },
  {
   "cell_type": "code",
   "execution_count": null,
   "metadata": {},
   "outputs": [],
   "source": [
    "# Mapa centrado en Costa Rica\n",
    "m = folium.Map(location=[9.63, -84], zoom_start=8)\n",
    "\n",
    "m"
   ]
  },
  {
   "cell_type": "markdown",
   "metadata": {},
   "source": [
    "##### Capas GeoJSON"
   ]
  },
  {
   "cell_type": "markdown",
   "metadata": {},
   "source": [
    "La clase [GeoJson](https://python-visualization.github.io/folium/modules.html#folium.features.GeoJson) crea una capa a partir de un archivo GeoJSON (o de un GeoDataFrame)."
   ]
  },
  {
   "cell_type": "code",
   "execution_count": null,
   "metadata": {},
   "outputs": [],
   "source": [
    "# Se añade la capa de provincias como un objeto GeoJSON\n",
    "folium.GeoJson(\"datos/provincias_cr.geojson\", name='Provincias').add_to(m)\n",
    "\n",
    "folium.LayerControl().add_to(m)\n",
    "\n",
    "m"
   ]
  },
  {
   "cell_type": "markdown",
   "metadata": {},
   "source": [
    "Seguidamente, se cargan los registros de presencia de _Ara macao_ en un GeoDataFrame, el cual se guarda como un archivo y luego se añade como una capa al mapa mediante la clase GeoJson de Folium."
   ]
  },
  {
   "cell_type": "markdown",
   "metadata": {},
   "source": [
    "**Capa de Ara macao**"
   ]
  },
  {
   "cell_type": "code",
   "execution_count": null,
   "metadata": {},
   "outputs": [],
   "source": [
    "# Carga de datos en un DataFrame\n",
    "ara_macao_df = pd.read_csv(\"datos/Ara-macao-CR-2018.csv\", sep='\\t')\n",
    "\n",
    "# Reducción de columnas\n",
    "ara_macao_df = ara_macao_df[['species', 'decimalLongitude', 'decimalLatitude', 'eventDate']]\n",
    "\n",
    "ara_macao_df"
   ]
  },
  {
   "cell_type": "code",
   "execution_count": null,
   "metadata": {},
   "outputs": [],
   "source": [
    "# Creación de geometrías para un GeoSeries\n",
    "ara_macao_geom = [Point(xy) for xy in zip(ara_macao_df[\"decimalLongitude\"], ara_macao_df[\"decimalLatitude\"])]\n",
    "\n",
    "# Creación de un GeoDataFrame\n",
    "ara_macao_gdf=gpd.GeoDataFrame(ara_macao_df, crs={\"init\": \"epsg:4326\"}, geometry=ara_macao_geom)\n",
    "\n",
    "ara_macao_gdf"
   ]
  },
  {
   "cell_type": "code",
   "execution_count": null,
   "metadata": {},
   "outputs": [],
   "source": [
    "# Se guarda el GeoDataFrame en un archivo\n",
    "ara_macao_gdf.to_file(\"datos/ara_macao.geojson\", driver=\"GeoJSON\")"
   ]
  },
  {
   "cell_type": "markdown",
   "metadata": {},
   "source": [
    "Se construye nuevamente el mapa, con todas las capas"
   ]
  },
  {
   "cell_type": "code",
   "execution_count": null,
   "metadata": {},
   "outputs": [],
   "source": [
    "# Mapa centrado en Costa Rica\n",
    "m = folium.Map(location=[9.63, -84], zoom_start=8)\n",
    "\n",
    "# Se añade la capa de provincias como un objeto GeoJSON\n",
    "folium.GeoJson(\"datos/provincias_cr.geojson\", name='Provincias').add_to(m)\n",
    "\n",
    "# Se añade la capa de Ara macao como un objeto GeoJSON\n",
    "folium.GeoJson(\"datos/ara_macao.geojson\", name='Ara macao').add_to(m)\n",
    "\n",
    "folium.LayerControl().add_to(m)\n",
    "\n",
    "m"
   ]
  },
  {
   "cell_type": "markdown",
   "metadata": {},
   "source": [
    "<div class=\"alert alert-success\">\n",
    " <strong>Ejercicio</strong>:\n",
    "\n",
    "Descargue del SNIT las capas de:\n",
    "* Áreas de conservación [(http://www.snitcr.go.cr/servicios_ogc_lista_capas?k=bm9kbzo6NDA=&nombre=SINAC)](http://www.snitcr.go.cr/servicios_ogc_lista_capas?k=bm9kbzo6NDA=&nombre=SINAC)\n",
    "* Red vial [(http://www.snitcr.go.cr/servicios_ogc_lista_capas?k=bm9kbzo6MjY=&nombre=IGN%20Cartograf%C3%ADa%201:5mil)](http://www.snitcr.go.cr/servicios_ogc_lista_capas?k=bm9kbzo6MjY=&nombre=IGN%20Cartograf%C3%ADa%201:5mil)\n",
    "\n",
    "Agregue estas capas al mapa que se está construyendo en este notebook.\n",
    "\n",
    "</div>"
   ]
  }
 ],
 "metadata": {
  "kernelspec": {
   "display_name": "Python 3",
   "language": "python",
   "name": "python3"
  },
  "language_info": {
   "codemirror_mode": {
    "name": "ipython",
    "version": 3
   },
   "file_extension": ".py",
   "mimetype": "text/x-python",
   "name": "python",
   "nbconvert_exporter": "python",
   "pygments_lexer": "ipython3",
   "version": "3.7.3"
  }
 },
 "nbformat": 4,
 "nbformat_minor": 2
}
